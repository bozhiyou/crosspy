{
 "cells": [
  {
   "attachments": {},
   "cell_type": "markdown",
   "metadata": {},
   "source": [
    "# Array creation"
   ]
  },
  {
   "attachments": {},
   "cell_type": "markdown",
   "metadata": {},
   "source": [
    "## Introduction\n",
    "\n",
    "Currently, there are 3 general mechanisms for creating CrossPy arrays:\n",
    "\n",
    "1. Conversion from a mixture of NumPy-compatible arrays or other Python sequences (i.e. lists and tuples)\n",
    "\n",
    "2. Intrinsic CrossPy array creation functions (e.g. arange, ones, zeros, etc.)\n",
    "\n",
    "3. Use of special library functions (e.g., random)\n",
    "\n",
    "We start with importing the CrossPy library, as well as NumPy and CuPy for demostration."
   ]
  },
  {
   "cell_type": "code",
   "execution_count": 1,
   "metadata": {},
   "outputs": [],
   "source": [
    "import crosspy as xp\n",
    "import numpy as np\n",
    "import cupy as cp"
   ]
  },
  {
   "attachments": {},
   "cell_type": "markdown",
   "metadata": {},
   "source": [
    "## 1) Converting NumPy-compatible arrays or Python sequences to CrossPy Arrays\n",
    "\n",
    "Heterogeneous CrossPy arrays can be defined using a sequence of NumPy-compatible arrays.\n",
    "These arrays can be on different devices.\n",
    "\n",
    "We create a NumPy array and a CuPy and then merge them into a CrossPy array."
   ]
  },
  {
   "cell_type": "code",
   "execution_count": 2,
   "metadata": {},
   "outputs": [
    {
     "data": {
      "text/plain": [
       "array([1, 2, 3])@<CPU 0>; array([4, 5])@<CUDA Device 0>"
      ]
     },
     "execution_count": 2,
     "metadata": {},
     "output_type": "execute_result"
    }
   ],
   "source": [
    "a = np.array([1, 2, 3])\n",
    "b = cp.array([4, 5])\n",
    "x = xp.array([a, b], axis=0)\n",
    "x"
   ]
  },
  {
   "cell_type": "markdown",
   "metadata": {},
   "source": [
    "`axis=0` specifies that the input object (i.e. the list) should be \"concatenated\" along the first axis."
   ]
  },
  {
   "cell_type": "code",
   "execution_count": 3,
   "metadata": {},
   "outputs": [
    {
     "data": {
      "text/plain": [
       "(5,)"
      ]
     },
     "execution_count": 3,
     "metadata": {},
     "output_type": "execute_result"
    }
   ],
   "source": [
    "a.shape\n",
    "b.shape\n",
    "x.shape"
   ]
  },
  {
   "cell_type": "markdown",
   "metadata": {},
   "source": [
    "Note that the *dtype* of the components should match."
   ]
  },
  {
   "cell_type": "markdown",
   "metadata": {},
   "source": [
    "```{eval-rst}\n",
    ">>> x = xp.array([np.array([1, 2], dtype=np.int32), cp.array([3, 4], dtype=cp.int64)], axis=0)\n",
    "    Traceback (most recent call last):\n",
    "        ...\n",
    "    ValueError: Incompatible shapes with 2 different dims\n",
    "```"
   ]
  },
  {
   "cell_type": "code",
   "execution_count": null,
   "metadata": {},
   "outputs": [],
   "source": [
    "x.device"
   ]
  },
  {
   "cell_type": "code",
   "execution_count": null,
   "metadata": {},
   "outputs": [],
   "source": [
    "# xp.array([x_cpu, x_cpu.T])"
   ]
  }
 ],
 "metadata": {
  "kernelspec": {
   "display_name": "cupy",
   "language": "python",
   "name": "python3"
  },
  "language_info": {
   "codemirror_mode": {
    "name": "ipython",
    "version": 3
   },
   "file_extension": ".py",
   "mimetype": "text/x-python",
   "name": "python",
   "nbconvert_exporter": "python",
   "pygments_lexer": "ipython3",
   "version": "3.9.12"
  },
  "orig_nbformat": 4
 },
 "nbformat": 4,
 "nbformat_minor": 2
}
